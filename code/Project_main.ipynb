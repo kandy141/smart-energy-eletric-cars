{
 "cells": [
  {
   "cell_type": "code",
   "execution_count": 6,
   "metadata": {
    "collapsed": true
   },
   "outputs": [],
   "source": [
    "import numpy as np\n",
    "import pandas as pd\n",
    "import os\n",
    "import datetime\n",
    "import re\n",
    "import math\n",
    "from sklearn.utils import shuffle\n",
    "import seaborn as sb\n",
    "import matplotlib.pyplot as plt\n",
    "import json\n",
    "\n",
    "import matplotlib.dates as mdates\n",
    "import matplotlib.cbook as cbook\n",
    "#scipy is used to get pearson correlation between features\n",
    "from scipy import stats"
   ]
  },
  {
   "cell_type": "code",
   "execution_count": null,
   "metadata": {
    "collapsed": false
   },
   "outputs": [],
   "source": [
    "#Working with data on EV charding infrastructure\n",
    "edu_attainment_df = pd.read_csv(\"../Data/Edu_attainment.csv\")\n",
    "print(infra_df.info())\n",
    "print(infra_df.describe())"
   ]
  },
  {
   "cell_type": "code",
   "execution_count": null,
   "metadata": {
    "collapsed": true
   },
   "outputs": [],
   "source": [
    "#Get state wise market share data\n",
    "market_share_df = pd.read_csv(\"../Data/Market_share.csv\")\n",
    "print(market_share_df.info())\n",
    "print(market_share_df.describe())"
   ]
  },
  {
   "cell_type": "code",
   "execution_count": null,
   "metadata": {
    "collapsed": true
   },
   "outputs": [],
   "source": [
    "#Sorting by state name\n",
    "market_share_df = market_share_df.sort_index(by=['State'])\n",
    "print(market_share_df.describe())\n",
    "print(market_share_df.head())"
   ]
  },
  {
   "cell_type": "code",
   "execution_count": null,
   "metadata": {
    "collapsed": true
   },
   "outputs": [],
   "source": [
    "#Sorting by state name\n",
    "edu_attainment_df = edu_attainment_df.sort_index(by=['State'])\n",
    "print(edu_attainment_df.describe())\n",
    "print(edu_attainment_df.head())"
   ]
  },
  {
   "cell_type": "code",
   "execution_count": null,
   "metadata": {
    "collapsed": true
   },
   "outputs": [],
   "source": [
    "edu_attainment_df.index = edu_attainment_df['State']\n",
    "market_share_df.index = market_share_df['State']\n",
    "print(market_share_df.head())\n",
    "print(edu_attainment_df.head())"
   ]
  },
  {
   "cell_type": "code",
   "execution_count": null,
   "metadata": {
    "collapsed": true
   },
   "outputs": [],
   "source": [
    "data_df = edu_attainment_df\n",
    "print(data_df.head())\n",
    "market_share_df_copy = market_share_df.drop(['State'], axis = 1)\n",
    "data_df = data_df.join(market_share_df_copy)\n",
    "data_df = data_df.drop(['State'], axis =1)\n",
    "print(data_df.head())"
   ]
  },
  {
   "cell_type": "code",
   "execution_count": null,
   "metadata": {
    "collapsed": true
   },
   "outputs": [],
   "source": [
    "data_df = data_df.rename(index=str, columns={\"Quality of Education Rank \": \"Quality of Education Rank\"})\n",
    "data_df.info()"
   ]
  },
  {
   "cell_type": "code",
   "execution_count": null,
   "metadata": {
    "collapsed": true
   },
   "outputs": [],
   "source": [
    "data_df['Market Share'] = data_df['Market Share'].map(lambda x: float(str(x).split('%')[0]))\n",
    "data_df.head()\n",
    "data_df['Quality of Education Rank'] = data_df['Quality of Education Rank'].map(lambda x: float(x))"
   ]
  },
  {
   "cell_type": "code",
   "execution_count": null,
   "metadata": {
    "collapsed": true
   },
   "outputs": [],
   "source": [
    "#Get correlation between \"quality of education\" and \"EV market share\" statewise\n",
    "\n",
    "r = stats.pearsonr(data_df['Market Share'],  data_df['Quality of Education Rank'])\n",
    "print(\"The correlation coefficient b/w market share and  education attainment is : \", r)"
   ]
  },
  {
   "cell_type": "code",
   "execution_count": null,
   "metadata": {
    "collapsed": true
   },
   "outputs": [],
   "source": [
    "data_df.index = data_df.index.map(lambda x: str(x))\n",
    "print(type(data_df.index[0]))"
   ]
  },
  {
   "cell_type": "code",
   "execution_count": null,
   "metadata": {
    "collapsed": true
   },
   "outputs": [],
   "source": [
    "#Plotting a bubble graph to see correlation between educational attainment and market share state wise\n",
    "import seaborn as sns\n",
    "\n",
    "# create data\n",
    "rank = data_df['Quality of Education Rank']\n",
    "share = data_df['Market Share']\n",
    "state = data_df.index.tolist()\n",
    " \n",
    "# Change color with c and alpha. I map the color to the X axis value.\n",
    "fig, ax = plt.subplots()\n",
    "ax.scatter(rank, share, c=-x, label=z, s=100,  cmap=\"Blues\", alpha=3, linewidth=2)\n",
    "# for i in state:\n",
    "#     ax.annotate(i ,xy=(rank, share), xytext=(0,np.sqrt(rank)/2.+5), \n",
    "#                  textcoords=\"offset points\", ha=\"center\", va=\"bottom\")\n",
    " \n",
    "# Add titles (main and on axis)\n",
    "plt.xlabel(\"Quality of education Ranking\")\n",
    "plt.ylabel(\"EV Market Share\")\n",
    "plt.title(\"Education Attainment vs Market Share\")\n",
    " \n",
    "plt.show()\n"
   ]
  },
  {
   "cell_type": "code",
   "execution_count": null,
   "metadata": {
    "collapsed": true
   },
   "outputs": [],
   "source": [
    "infra_df = pd.read_csv(\"../Data/ElectricStationsCounts.csv\")\n",
    "infra_df = infra_df.sort_index(by = ['State'])\n",
    "infra_df.index = infra_df['State']\n",
    "infra_df = infra_df.drop(['State'], axis = 1)\n",
    "print(infra_df.info())"
   ]
  },
  {
   "cell_type": "code",
   "execution_count": null,
   "metadata": {
    "collapsed": true
   },
   "outputs": [],
   "source": [
    "infra_df.head()"
   ]
  },
  {
   "cell_type": "code",
   "execution_count": null,
   "metadata": {
    "collapsed": true
   },
   "outputs": [],
   "source": [
    "data_df['Charging Points Count'] = infra_df['Charging Points']\n",
    "data_df['Charging Points Count'] = data_df['Charging Points Count'].map(lambda x : float(x))\n",
    "data_df.info()\n",
    "data_df.drop(['CHarging Points Count'], axis = 1)"
   ]
  },
  {
   "cell_type": "code",
   "execution_count": null,
   "metadata": {
    "collapsed": true
   },
   "outputs": [],
   "source": [
    "r = stats.pearsonr(data_df['Charging Points Count'], data_df['Market Share'])\n",
    "r"
   ]
  },
  {
   "cell_type": "code",
   "execution_count": null,
   "metadata": {
    "collapsed": true
   },
   "outputs": [],
   "source": [
    "state_to_code = {\n",
    "        'AK': 'Alaska',\n",
    "        'AL': 'Alabama',\n",
    "        'AR': 'Arkansas',\n",
    "        'AS': 'American Samoa',\n",
    "        'AZ': 'Arizona',\n",
    "        'CA': 'California',\n",
    "        'CO': 'Colorado',\n",
    "        'CT': 'Connecticut',\n",
    "        'DC': 'District of Columbia',\n",
    "        'DE': 'Delaware',\n",
    "        'FL': 'Florida',\n",
    "        'GA': 'Georgia',\n",
    "        'GU': 'Guam',\n",
    "        'HI': 'Hawaii',\n",
    "        'IA': 'Iowa',\n",
    "        'ID': 'Idaho',\n",
    "        'IL': 'Illinois',\n",
    "        'IN': 'Indiana',\n",
    "        'KS': 'Kansas',\n",
    "        'KY': 'Kentucky',\n",
    "        'LA': 'Louisiana',\n",
    "        'MA': 'Massachusetts',\n",
    "        'MD': 'Maryland',\n",
    "        'ME': 'Maine',\n",
    "        'MI': 'Michigan',\n",
    "        'MN': 'Minnesota',\n",
    "        'MO': 'Missouri',\n",
    "        'MP': 'Northern Mariana Islands',\n",
    "        'MS': 'Mississippi',\n",
    "        'MT': 'Montana',\n",
    "        'NA': 'National',\n",
    "        'NC': 'North Carolina',\n",
    "        'ND': 'North Dakota',\n",
    "        'NE': 'Nebraska',\n",
    "        'NH': 'New Hampshire',\n",
    "        'NJ': 'New Jersey',\n",
    "        'NM': 'New Mexico',\n",
    "        'NV': 'Nevada',\n",
    "        'NY': 'New York',\n",
    "        'OH': 'Ohio',\n",
    "        'OK': 'Oklahoma',\n",
    "        'OR': 'Oregon',\n",
    "        'PA': 'Pennsylvania',\n",
    "        'PR': 'Puerto Rico',\n",
    "        'RI': 'Rhode Island',\n",
    "        'SC': 'South Carolina',\n",
    "        'SD': 'South Dakota',\n",
    "        'TN': 'Tennessee',\n",
    "        'TX': 'Texas',\n",
    "        'UT': 'Utah',\n",
    "        'VA': 'Virginia',\n",
    "        'VI': 'Virgin Islands',\n",
    "        'VT': 'Vermont',\n",
    "        'WA': 'Washington',\n",
    "        'WI': 'Wisconsin',\n",
    "        'WV': 'West Virginia',\n",
    "        'WY': 'Wyoming'\n",
    "}"
   ]
  },
  {
   "cell_type": "code",
   "execution_count": null,
   "metadata": {
    "collapsed": true
   },
   "outputs": [],
   "source": [
    "income_df = pd.read_csv(\"../Data/Income_Parsed.csv\")\n",
    "income_df.index = income_df['State']\n",
    "income_df = income_df.drop(['State'], axis = 1)\n",
    "income_df.info()"
   ]
  },
  {
   "cell_type": "code",
   "execution_count": null,
   "metadata": {
    "collapsed": true
   },
   "outputs": [],
   "source": [
    "income_df['Avg Household Income'] = income_df['Avg Household Income'].map(lambda x : float(x))\n",
    "income_df.info()"
   ]
  },
  {
   "cell_type": "code",
   "execution_count": null,
   "metadata": {
    "collapsed": true
   },
   "outputs": [],
   "source": [
    "data_df['Avg Household Income'] = income_df['Avg Household Income']\n",
    "data_df.info()"
   ]
  },
  {
   "cell_type": "code",
   "execution_count": null,
   "metadata": {
    "collapsed": true
   },
   "outputs": [],
   "source": [
    "r = stats.pearsonr(data_df['Avg Household Income'], data_df['Market Share'])\n",
    "r"
   ]
  },
  {
   "cell_type": "code",
   "execution_count": null,
   "metadata": {
    "collapsed": true
   },
   "outputs": [],
   "source": [
    "cal_gas_price_df = pd.read_csv(\"../Data/Cal_gs_price_change.csv\")\n",
    "cal_gas_price_df['EV Registrations'] = cal_gas_price_df['EV Registrations'].map(lambda x : float(x))\n",
    "cal_gas_price_df.index  = cal_gas_price_df['Year']\n",
    "cal_gas_price_df = cal_gas_price_df.drop(['Year'], axis = 1)\n",
    "cal_gas_price_df.info()"
   ]
  },
  {
   "cell_type": "code",
   "execution_count": null,
   "metadata": {
    "collapsed": true
   },
   "outputs": [],
   "source": [
    "date = cal_gas_price_df.index\n",
    "\n",
    "datemin =  (date.min())\n",
    "datemax =  (date.max())\n",
    "fig = plt.figure()\n",
    "x_date = pd.date_range(date.min(), date.max(), freq='Y')\n",
    "\n",
    "ax1 = fig.add_subplot(211)\n",
    "ax1.plot(date, cal_gas_price_df['Gasoline Prices'], color = 'Blue')\n",
    "plt.xlabel(\"Year\")\n",
    "plt.ylabel(\"Gasoline Price\")\n",
    "\n",
    "ax1.set_xlim(datemin, datemax)\n",
    "\n",
    "ax2 = fig.add_subplot(212)\n",
    "ax2.plot(date, cal_gas_price_df['EV Registrations'], color = 'Green')\n",
    "plt.xlabel(\"Year\")\n",
    "plt.ylabel(\"EV Registrations Count\")\n",
    "\n",
    "# ax2.xaxis.set_major_locator(mdates.YearLocator(interval=1))\n",
    "# ax2.xaxis.set_major_formatter(mdates.DateFormatter('%Y'))\n",
    "\n",
    "ax2.set_xlim(datemin, datemax)\n",
    "\n",
    "fig.autofmt_xdate()\n",
    "\n",
    "fig.suptitle('California State Trend between Gasoline Prices and EV registrations', fontsize=20)\n",
    "\n",
    "fig.set_size_inches(10, 10)\n",
    "\n",
    "plt.show()"
   ]
  },
  {
   "cell_type": "code",
   "execution_count": null,
   "metadata": {
    "collapsed": true
   },
   "outputs": [],
   "source": [
    "data_df.head()"
   ]
  },
  {
   "cell_type": "code",
   "execution_count": 9,
   "metadata": {
    "collapsed": false
   },
   "outputs": [
    {
     "name": "stderr",
     "output_type": "stream",
     "text": [
      "/Users/apekshasinghal/Documents/venv_lar/lib/python3.6/site-packages/lightgbm/__init__.py:46: UserWarning: Starting from version 2.2.1, the library file in distribution wheels for macOS is built by the Apple Clang (Xcode_9.4.1) compiler.\n",
      "This means that in case of installing LightGBM from PyPI via the ``pip install lightgbm`` command, you don't need to install the gcc compiler anymore.\n",
      "Instead of that, you need to install the OpenMP library, which is required for running LightGBM on the system with the Apple Clang compiler.\n",
      "You can install the OpenMP library by the following command: ``brew install libomp``.\n",
      "  \"You can install the OpenMP library by the following command: ``brew install libomp``.\", UserWarning)\n"
     ]
    }
   ],
   "source": [
    "from sklearn import preprocessing\n",
    "import lightgbm as lgbm"
   ]
  },
  {
   "cell_type": "code",
   "execution_count": 10,
   "metadata": {
    "collapsed": true
   },
   "outputs": [],
   "source": [
    "import pandas as pd"
   ]
  },
  {
   "cell_type": "code",
   "execution_count": 11,
   "metadata": {
    "collapsed": false
   },
   "outputs": [
    {
     "name": "stdout",
     "output_type": "stream",
     "text": [
      "        State  Registrations  Reg-2017  Change  HOV Lane Exemption  \\\n",
      "0  California        1188439   1043183  145256                   1   \n",
      "1     Florida         233309    207838   25471                   1   \n",
      "2   Minnesota          48587     43048    5539                   0   \n",
      "3     Arizona          82545     72628    9917                   1   \n",
      "4      Kansas          21402     19301    2101                   0   \n",
      "\n",
      "   Purchase Rebate  Tax Credit  Parking Exemption  Registration Fee Rebate  \\\n",
      "0                1           0                  0                        0   \n",
      "1                1           0                  0                        0   \n",
      "2                0           0                  0                        0   \n",
      "3                0           0                  1                        0   \n",
      "4                0           1                  0                        0   \n",
      "\n",
      "   Charging Rate Incentive  Supply Incentive  Educational Attainment  \\\n",
      "0                        1                 1                   50.28   \n",
      "1                        0                 1                   48.42   \n",
      "2                        1                 0                   66.28   \n",
      "3                        1                 1                   43.43   \n",
      "4                        0                 0                   52.83   \n",
      "\n",
      "   Median Age  Charging Station count  Household Income  Gasoline price  \n",
      "0        36.0                   18300             91149           3.512  \n",
      "1        41.6                    2605             81708           2.321  \n",
      "2        37.8                     697             99626           2.353  \n",
      "3        37.1                    1144             80861           2.799  \n",
      "4        36.2                     739             86732           2.144  \n",
      "        State  Registrations  Reg-2017  Change  HOV Lane Exemption  \\\n",
      "0  California        1188439   1043183  145256                   1   \n",
      "1     Florida         233309    207838   25471                   1   \n",
      "2   Minnesota          48587     43048    5539                   0   \n",
      "3     Arizona          82545     72628    9917                   1   \n",
      "4      Kansas          21402     19301    2101                   0   \n",
      "\n",
      "   Purchase Rebate  Tax Credit  Parking Exemption  Registration Fee Rebate  \\\n",
      "0                1           0                  0                        0   \n",
      "1                1           0                  0                        0   \n",
      "2                0           0                  0                        0   \n",
      "3                0           0                  1                        0   \n",
      "4                0           1                  0                        0   \n",
      "\n",
      "   Charging Rate Incentive  Supply Incentive  Educational Attainment  \\\n",
      "0                        1                 1                   50.28   \n",
      "1                        0                 1                   48.42   \n",
      "2                        1                 0                   66.28   \n",
      "3                        1                 1                   43.43   \n",
      "4                        0                 0                   52.83   \n",
      "\n",
      "   Median Age  Charging Station count  Household Income  Gasoline price  \n",
      "0        36.0                   18300             91149           3.512  \n",
      "1        41.6                    2605             81708           2.321  \n",
      "2        37.8                     697             99626           2.353  \n",
      "3        37.1                    1144             80861           2.799  \n",
      "4        36.2                     739             86732           2.144  \n"
     ]
    }
   ],
   "source": [
    "train_df = pd.read_csv(\"../data/data_main.csv\", nrows=45)\n",
    "print(train_df.head())\n",
    "test_df = pd.read_csv(\"../data/data_main.csv\", nrows=5)\n",
    "print(test_df.head())"
   ]
  },
  {
   "cell_type": "code",
   "execution_count": 12,
   "metadata": {
    "collapsed": true
   },
   "outputs": [],
   "source": [
    "cat_cols = ['HOV Lane Exemption' , 'Purchase Rebate' , 'Tax Credit' , 'Parking Exemption' , 'Registration Fee Rebate' , 'Charging Rate Incentive' , 'Supply Incentive' ]\n",
    "\n",
    "for col in cat_cols:\n",
    "    encoder = preprocessing.LabelEncoder()\n",
    "    encoder.fit(list(train_df[col].values.astype('str')) + list(test_df[col].values.astype('str')))\n",
    "    train_df[col] = encoder.transform(list(train_df[col].values.astype('str')))\n",
    "    test_df[col] = encoder.transform(list(test_df[col].values.astype('str')))\n",
    "    \n",
    "num_cols = ['Registrations','Educational Attainment' , 'Median Age' , 'Charging Station count' , 'Household Income' , 'Gasoline price']\n",
    "for col in num_cols:\n",
    "    train_df[col] = train_df[col].astype(float)\n",
    "    test_df[col] = test_df[col].astype(float)"
   ]
  },
  {
   "cell_type": "code",
   "execution_count": 13,
   "metadata": {
    "collapsed": true
   },
   "outputs": [],
   "source": [
    "feat_list = ['HOV Lane Exemption' , 'Purchase Rebate' , 'Tax Credit' , 'Parking Exemption' , 'Registration Fee Rebate' , 'Charging Rate Incentive' , 'Supply Incentive' , 'Educational Attainment' , 'Median Age' , 'Charging Station count' , 'Household Income' , 'Gasoline price']\n",
    "train_labels = train_df['Change']\n",
    "test_labels = test_df['Change']\n",
    "train_X = train_df[feat_list]\n",
    "test_X = test_df[feat_list]"
   ]
  },
  {
   "cell_type": "code",
   "execution_count": 14,
   "metadata": {
    "collapsed": false
   },
   "outputs": [
    {
     "name": "stdout",
     "output_type": "stream",
     "text": [
      "Training until validation scores don't improve for 200 rounds.\n",
      "[100]\tvalid_0's rmse: 1.61912\n",
      "[200]\tvalid_0's rmse: 4.30062e-05\n",
      "[300]\tvalid_0's rmse: 1.14238e-09\n",
      "[400]\tvalid_0's rmse: 5.28795e-11\n",
      "[500]\tvalid_0's rmse: 5.28795e-11\n",
      "Early stopping, best iteration is:\n",
      "[350]\tvalid_0's rmse: 5.28795e-11\n"
     ]
    }
   ],
   "source": [
    "def run_lgb(train_X, train_y, val_X, val_y):\n",
    "    params = {\n",
    "        \"objective\" : \"regression\",\n",
    "        \"metric\" : \"rmse\", \n",
    "        \"num_leaves\" : 200,\n",
    "        \"min_child_samples\" : 100,\n",
    "        \"learning_rate\" : 0.1,\n",
    "        \"min_data\":1,\n",
    "        \"min_data_in_bin\":1,\n",
    "#         \"bagging_fraction\" : 0.8,\n",
    "#         \"feature_fraction\" : 0.8,\n",
    "#         \"bagging_frequency\" : 2,\n",
    "        \"verbosity\" : 1,\n",
    "        \"max_depth\" : 8\n",
    "    }\n",
    "    \n",
    "    train_set = lgbm.Dataset(train_X, label=train_y)\n",
    "    val_set = lgbm.Dataset(val_X, label=val_y)\n",
    "    model = lgbm.train(params, train_set, 4000, valid_sets=[val_set], early_stopping_rounds=200, verbose_eval=100)\n",
    "    \n",
    "    pred_val_y = model.predict(val_X, num_iteration=model.best_iteration)\n",
    "    return model, pred_val_y\n",
    "\n",
    "# Training the model #\n",
    "model, pred_val = run_lgb(train_X, train_labels, test_X, test_labels)"
   ]
  },
  {
   "cell_type": "code",
   "execution_count": 15,
   "metadata": {
    "collapsed": false
   },
   "outputs": [
    {
     "name": "stdout",
     "output_type": "stream",
     "text": [
      "['HOV_Lane_Exemption', 'Purchase_Rebate', 'Tax_Credit', 'Parking_Exemption', 'Registration_Fee_Rebate', 'Charging_Rate_Incentive', 'Supply_Incentive', 'Educational_Attainment', 'Median_Age', 'Charging_Station_count', 'Household_Income', 'Gasoline_price']\n",
      "[2456 2135  623   26    0 1045  143 2290 1887 2834  100 1010]\n"
     ]
    }
   ],
   "source": [
    "print(model.feature_name())\n",
    "feature_importance  = model.feature_importance()\n",
    "print(feature_importance)"
   ]
  },
  {
   "cell_type": "code",
   "execution_count": 16,
   "metadata": {
    "collapsed": false
   },
   "outputs": [
    {
     "data": {
      "text/plain": [
       "array([145256.,  25471.,   5539.,   9917.,   2101.])"
      ]
     },
     "execution_count": 16,
     "metadata": {},
     "output_type": "execute_result"
    }
   ],
   "source": [
    "pred_val"
   ]
  },
  {
   "cell_type": "code",
   "execution_count": 22,
   "metadata": {
    "collapsed": false
   },
   "outputs": [
    {
     "data": {
      "text/html": [
       "<div>\n",
       "<style scoped>\n",
       "    .dataframe tbody tr th:only-of-type {\n",
       "        vertical-align: middle;\n",
       "    }\n",
       "\n",
       "    .dataframe tbody tr th {\n",
       "        vertical-align: top;\n",
       "    }\n",
       "\n",
       "    .dataframe thead th {\n",
       "        text-align: right;\n",
       "    }\n",
       "</style>\n",
       "<table border=\"1\" class=\"dataframe\">\n",
       "  <thead>\n",
       "    <tr style=\"text-align: right;\">\n",
       "      <th></th>\n",
       "      <th>State</th>\n",
       "      <th>Registrations</th>\n",
       "      <th>Reg-2017</th>\n",
       "      <th>Change</th>\n",
       "      <th>HOV Lane Exemption</th>\n",
       "      <th>Purchase Rebate</th>\n",
       "      <th>Tax Credit</th>\n",
       "      <th>Parking Exemption</th>\n",
       "      <th>Registration Fee Rebate</th>\n",
       "      <th>Charging Rate Incentive</th>\n",
       "      <th>Supply Incentive</th>\n",
       "      <th>Educational Attainment</th>\n",
       "      <th>Median Age</th>\n",
       "      <th>Charging Station count</th>\n",
       "      <th>Household Income</th>\n",
       "      <th>Gasoline price</th>\n",
       "    </tr>\n",
       "  </thead>\n",
       "  <tbody>\n",
       "    <tr>\n",
       "      <th>0</th>\n",
       "      <td>California</td>\n",
       "      <td>1188439</td>\n",
       "      <td>1043183</td>\n",
       "      <td>145256</td>\n",
       "      <td>1</td>\n",
       "      <td>1</td>\n",
       "      <td>0</td>\n",
       "      <td>0</td>\n",
       "      <td>0</td>\n",
       "      <td>1</td>\n",
       "      <td>1</td>\n",
       "      <td>50.28</td>\n",
       "      <td>36.0</td>\n",
       "      <td>18300</td>\n",
       "      <td>91149</td>\n",
       "      <td>3.512</td>\n",
       "    </tr>\n",
       "    <tr>\n",
       "      <th>1</th>\n",
       "      <td>Florida</td>\n",
       "      <td>233309</td>\n",
       "      <td>207838</td>\n",
       "      <td>25471</td>\n",
       "      <td>1</td>\n",
       "      <td>1</td>\n",
       "      <td>0</td>\n",
       "      <td>0</td>\n",
       "      <td>0</td>\n",
       "      <td>0</td>\n",
       "      <td>1</td>\n",
       "      <td>48.42</td>\n",
       "      <td>41.6</td>\n",
       "      <td>2605</td>\n",
       "      <td>81708</td>\n",
       "      <td>2.321</td>\n",
       "    </tr>\n",
       "    <tr>\n",
       "      <th>2</th>\n",
       "      <td>Texas</td>\n",
       "      <td>192741</td>\n",
       "      <td>171126</td>\n",
       "      <td>21615</td>\n",
       "      <td>0</td>\n",
       "      <td>1</td>\n",
       "      <td>0</td>\n",
       "      <td>0</td>\n",
       "      <td>0</td>\n",
       "      <td>1</td>\n",
       "      <td>1</td>\n",
       "      <td>39.11</td>\n",
       "      <td>34.2</td>\n",
       "      <td>2872</td>\n",
       "      <td>88231</td>\n",
       "      <td>2.126</td>\n",
       "    </tr>\n",
       "    <tr>\n",
       "      <th>3</th>\n",
       "      <td>New York</td>\n",
       "      <td>188724</td>\n",
       "      <td>167428</td>\n",
       "      <td>21296</td>\n",
       "      <td>1</td>\n",
       "      <td>1</td>\n",
       "      <td>1</td>\n",
       "      <td>0</td>\n",
       "      <td>0</td>\n",
       "      <td>1</td>\n",
       "      <td>1</td>\n",
       "      <td>57.44</td>\n",
       "      <td>38.2</td>\n",
       "      <td>2391</td>\n",
       "      <td>104233</td>\n",
       "      <td>2.773</td>\n",
       "    </tr>\n",
       "    <tr>\n",
       "      <th>4</th>\n",
       "      <td>Michigan</td>\n",
       "      <td>82545</td>\n",
       "      <td>63805</td>\n",
       "      <td>18740</td>\n",
       "      <td>0</td>\n",
       "      <td>0</td>\n",
       "      <td>1</td>\n",
       "      <td>0</td>\n",
       "      <td>0</td>\n",
       "      <td>1</td>\n",
       "      <td>0</td>\n",
       "      <td>48.50</td>\n",
       "      <td>39.5</td>\n",
       "      <td>1131</td>\n",
       "      <td>68928</td>\n",
       "      <td>2.255</td>\n",
       "    </tr>\n",
       "  </tbody>\n",
       "</table>\n",
       "</div>"
      ],
      "text/plain": [
       "        State  Registrations  Reg-2017  Change  HOV Lane Exemption  \\\n",
       "0  California        1188439   1043183  145256                   1   \n",
       "1     Florida         233309    207838   25471                   1   \n",
       "2       Texas         192741    171126   21615                   0   \n",
       "3    New York         188724    167428   21296                   1   \n",
       "4    Michigan          82545     63805   18740                   0   \n",
       "\n",
       "   Purchase Rebate  Tax Credit  Parking Exemption  Registration Fee Rebate  \\\n",
       "0                1           0                  0                        0   \n",
       "1                1           0                  0                        0   \n",
       "2                1           0                  0                        0   \n",
       "3                1           1                  0                        0   \n",
       "4                0           1                  0                        0   \n",
       "\n",
       "   Charging Rate Incentive  Supply Incentive  Educational Attainment  \\\n",
       "0                        1                 1                   50.28   \n",
       "1                        0                 1                   48.42   \n",
       "2                        1                 1                   39.11   \n",
       "3                        1                 1                   57.44   \n",
       "4                        1                 0                   48.50   \n",
       "\n",
       "   Median Age  Charging Station count  Household Income  Gasoline price  \n",
       "0        36.0                   18300             91149           3.512  \n",
       "1        41.6                    2605             81708           2.321  \n",
       "2        34.2                    2872             88231           2.126  \n",
       "3        38.2                    2391            104233           2.773  \n",
       "4        39.5                    1131             68928           2.255  "
      ]
     },
     "execution_count": 22,
     "metadata": {},
     "output_type": "execute_result"
    }
   ],
   "source": [
    "charge_df  = pd.read_csv(\"../data/data_main.csv\", nrows=10)\n",
    "charge_df.head()"
   ]
  },
  {
   "cell_type": "code",
   "execution_count": 27,
   "metadata": {
    "collapsed": false
   },
   "outputs": [
    {
     "data": {
      "image/png": "[encoded data removed]",
      "text/plain": [
       "<matplotlib.figure.Figure at 0x10f788a20>"
      ]
     },
     "metadata": {},
     "output_type": "display_data"
    }
   ],
   "source": [
    "\n",
    "\n",
    "Reg_count = charge_df['Charging Station count']\n",
    "State = charge_df['State']\n",
    "y_pos_mean = np.arange(len(State))\n",
    "\n",
    "fig = plt.figure()\n",
    "fig.suptitle('Charging Station count for top 10 states(EV Registration-2018)', fontsize=20)\n",
    "plt.xlabel(\"State\")\n",
    "plt.ylabel(\"Charging Station Count\")\n",
    "fig.set_size_inches(15, 5)\n",
    "\n",
    "plt.bar(y_pos_mean, Reg_count, color=['black', 'red', 'green', 'blue', 'cyan', 'yellow', 'gray', 'brown', 'purple', 'orange', 'Teal', 'maroon'])\n",
    "plt.xticks(y_pos_mean, State)\n",
    "plt.show()"
   ]
  },
  {
   "cell_type": "code",
   "execution_count": null,
   "metadata": {
    "collapsed": true
   },
   "outputs": [],
   "source": []
  }
 ],
 "metadata": {
  "kernelspec": {
   "display_name": "Python 2",
   "language": "python",
   "name": "python2"
  },
  "language_info": {
   "codemirror_mode": {
    "name": "ipython",
    "version": 2
   },
   "file_extension": ".py",
   "mimetype": "text/x-python",
   "name": "python",
   "nbconvert_exporter": "python",
   "pygments_lexer": "ipython2",
   "version": "2.7.13"
  }
 },
 "nbformat": 4,
 "nbformat_minor": 2
}
